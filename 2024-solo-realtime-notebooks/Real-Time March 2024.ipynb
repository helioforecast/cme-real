{
 "cells": [
  {
   "cell_type": "code",
   "execution_count": 66,
   "id": "0750db04",
   "metadata": {},
   "outputs": [],
   "source": [
    "from datetime import datetime, timedelta\n",
    "import pandas as pd\n",
    "import numpy as np\n",
    "\n",
    "#Plotly imports\n",
    "from plotly.subplots import make_subplots\n",
    "import plotly.graph_objects as go\n",
    "import plotly.io as pio\n",
    "pio.renderers.default = 'browser'\n",
    "\n",
    "#From https://github.com/ee-davies/sc-data-functions\n",
    "import sys\n",
    "sys.path.insert(1, '/Users/emmadavies/Documents/sc-data-functions')\n",
    "import functions_solo as solo\n",
    "import functions_noaa as noaa\n",
    "import functions_sta as sta\n",
    "\n",
    "import data_frame_transforms as transform\n",
    "import functions_insitu_analysis as insitu_tools"
   ]
  },
  {
   "cell_type": "markdown",
   "id": "2a3204f6",
   "metadata": {},
   "source": [
    "# Create pickle files for SolO, DSCOVR, STEREO-A"
   ]
  },
  {
   "cell_type": "code",
   "execution_count": 67,
   "id": "8a8a9c94",
   "metadata": {},
   "outputs": [],
   "source": [
    "#input start and end time of data received\n",
    "start_timestamp = datetime(2024, 3, 16)\n",
    "end_timestamp = datetime(2024, 3, 19)"
   ]
  },
  {
   "cell_type": "code",
   "execution_count": 68,
   "id": "45ea2f95",
   "metadata": {},
   "outputs": [
    {
     "name": "stdout",
     "output_type": "stream",
     "text": [
      "ERROR: NO_SUCH_CDF: The specified CDF does not exist. /Volumes/External/data/solo/swa/plas/l2/solo_L2_swa-pas-grnd-mom_20240316.cdf\n",
      "ERROR: NO_SUCH_CDF: The specified CDF does not exist. /Volumes/External/data/solo/swa/plas/l2/solo_L2_swa-pas-grnd-mom_20240317.cdf\n",
      "ERROR: NO_SUCH_CDF: The specified CDF does not exist. /Volumes/External/data/solo/swa/plas/l2/solo_L2_swa-pas-grnd-mom_20240318.cdf\n",
      "ERROR: NO_SUCH_CDF: The specified CDF does not exist. /Volumes/External/data/solo/swa/plas/l2/solo_L2_swa-pas-grnd-mom_20240319.cdf\n",
      "SolO SWA data is empty for this timerange\n"
     ]
    }
   ],
   "source": [
    "solo.create_solo_pkl(start_timestamp, end_timestamp, level='ll')"
   ]
  },
  {
   "cell_type": "code",
   "execution_count": 69,
   "id": "5c291435",
   "metadata": {},
   "outputs": [],
   "source": [
    "noaa.create_dscovr_pkl()"
   ]
  },
  {
   "cell_type": "markdown",
   "id": "422fec2f",
   "metadata": {},
   "source": [
    "# Load in pickle files"
   ]
  },
  {
   "cell_type": "code",
   "execution_count": 70,
   "id": "5625962b",
   "metadata": {},
   "outputs": [],
   "source": [
    "# create str times for prediction dating/file use\n",
    "t_now = datetime.utcnow()\n",
    "t_now_date = datetime.utcnow().strftime(\"%Y-%m-%d\")\n",
    "t_now_date_hour = datetime.utcnow().strftime(\"%Y-%m-%d-%H\")"
   ]
  },
  {
   "cell_type": "code",
   "execution_count": 71,
   "id": "0b51a431",
   "metadata": {},
   "outputs": [],
   "source": [
    "# unpickle dataframes\n",
    "output_path='/Users/emmadavies/Documents/Projects/SolO_Realtime_Preparation/March2024/'\n",
    "\n",
    "obj_solo = pd.read_pickle(output_path+f'solo_rtn_{t_now_date}.p')\n",
    "solo_df = pd.DataFrame.from_records(obj_solo[0])\n",
    "\n",
    "obj_dscovr = pd.read_pickle(output_path+f'dscovr_gsm_{t_now_date_hour}.p')\n",
    "dscovr_df = pd.DataFrame.from_records(obj_dscovr[0])"
   ]
  },
  {
   "cell_type": "code",
   "execution_count": 37,
   "id": "3e499fd9",
   "metadata": {},
   "outputs": [],
   "source": [
    "# dscovr_df['r2'] = dscovr_df['r'].mean()"
   ]
  },
  {
   "cell_type": "markdown",
   "id": "7ff1781f",
   "metadata": {},
   "source": [
    "# Plot Solar Orbiter MAG Data (Original RTN)"
   ]
  },
  {
   "cell_type": "code",
   "execution_count": 72,
   "id": "65da4211",
   "metadata": {},
   "outputs": [],
   "source": [
    "#define solo info for plot titles\n",
    "t_start = solo_df['time'][0]\n",
    "t_end = solo_df['time'][solo_df.shape[0]-1]\n",
    "\n",
    "lag = (t_now-t_end)/timedelta(hours=1)\n",
    "\n",
    "r_recent = solo_df['r'][solo_df.shape[0]-1]\n",
    "lat_recent = solo_df['lat'][solo_df.shape[0]-1]\n",
    "lon_recent = solo_df['lon'][solo_df.shape[0]-1]"
   ]
  },
  {
   "cell_type": "code",
   "execution_count": 64,
   "id": "5f793165",
   "metadata": {},
   "outputs": [],
   "source": [
    "nrows = 1\n",
    "fig = make_subplots(rows=nrows, cols=1, shared_xaxes=True)\n",
    "\n",
    "for column, color in zip(['bx', 'by', 'bz', 'bt'], ['red', 'green', 'blue', 'black']):\n",
    "    fig.add_trace(\n",
    "        go.Scatter(\n",
    "            x=solo_df['time'],\n",
    "            y=solo_df[column],\n",
    "            name=column.upper(),\n",
    "            line_color=color\n",
    "        ),\n",
    "        row=1, col=1\n",
    "    )\n",
    "\n",
    "fig.update_yaxes(title_text='B [nT]', row=1, col=1)\n",
    "\n",
    "fig.update_yaxes(showgrid=True, zeroline=False, showticklabels=True,\n",
    "                     showspikes=True, spikemode='across', spikesnap='cursor', showline=False, spikedash='solid', spikethickness=1)\n",
    "fig.update_xaxes(showgrid=True, zeroline=False, showticklabels=True, rangeslider_visible=False,\n",
    "                     showspikes=True, spikemode='across', spikesnap='cursor', showline=False, spikedash='solid', spikethickness=1)\n",
    "\n",
    "fig.update_layout(\n",
    "    title=f'SolO MAG Data in RTN from {t_start} to {t_end} <br>Latest SolO Position: r = {r_recent:.2f} AU, lat = {lat_recent:.2f}, lon = {lon_recent:.2f} <br>Time lag to current time: {lag:.2f} hours')\n",
    "\n",
    "#fig.write_html(f'{output_path}/SolO_MAG_{t_now_date}.html')\n",
    "\n",
    "fig.show()"
   ]
  },
  {
   "cell_type": "markdown",
   "id": "a3b0f31b",
   "metadata": {},
   "source": [
    "## Define SolO boundary times and give ELEvo outputs:"
   ]
  },
  {
   "cell_type": "code",
   "execution_count": 73,
   "id": "8db213ce",
   "metadata": {},
   "outputs": [],
   "source": [
    "t_shock = datetime(2024, 3, 18, 16, 55)\n",
    "t_le = datetime(2024, 3, 18, 23, 1)\n",
    "t_te = datetime(2024, 3, 19, 9, 4)\n",
    "\n",
    "insitu_speed = 400\n",
    "\n",
    "#from ELEvo\n",
    "speed = 511.81\n",
    "donki_id = \"2024-03-17T03:36:00-CME-001\"\n",
    "L1_pred_arrival_time = datetime(2024, 3, 20, 19, 6) \n",
    "L1_pred_arrival_uncertainty = 3 #given in hours, always even +/- uncertainty"
   ]
  },
  {
   "cell_type": "code",
   "execution_count": 79,
   "id": "89f7c16a",
   "metadata": {},
   "outputs": [],
   "source": [
    "def get_pos_at_boundary(df, boundary_datetime):\n",
    "    df_s = df.copy(deep=True)\n",
    "    idx = df_s.set_index('time').index.get_loc(boundary_datetime, method='nearest')\n",
    "    r = df_s['r'].iloc[idx]\n",
    "    lat = df_s['lat'].iloc[idx]\n",
    "    lon = df_s['lon'].iloc[idx]\n",
    "    return r, lat, lon"
   ]
  },
  {
   "cell_type": "code",
   "execution_count": 82,
   "id": "c0ea09e3",
   "metadata": {},
   "outputs": [
    {
     "name": "stderr",
     "output_type": "stream",
     "text": [
      "/var/folders/s0/qqkkd_l52k3b3zc47gs6ry3r0000gn/T/ipykernel_94248/1591342384.py:3: FutureWarning:\n",
      "\n",
      "Passing method to DatetimeIndex.get_loc is deprecated and will raise in a future version. Use index.get_indexer([item], method=...) instead.\n",
      "\n",
      "/var/folders/s0/qqkkd_l52k3b3zc47gs6ry3r0000gn/T/ipykernel_94248/1591342384.py:3: FutureWarning:\n",
      "\n",
      "Passing method to DatetimeIndex.get_loc is deprecated and will raise in a future version. Use index.get_indexer([item], method=...) instead.\n",
      "\n"
     ]
    }
   ],
   "source": [
    "r_start, lat_start, lon_start = get_pos_at_boundary(solo_df, t_shock)\n",
    "r_end, lat_end, lon_end = get_pos_at_boundary(solo_df, t_te)"
   ]
  },
  {
   "cell_type": "markdown",
   "id": "4f8f85d7",
   "metadata": {},
   "source": [
    "## Plot SolO in RTN with boundaries and info: share this plot!"
   ]
  },
  {
   "cell_type": "code",
   "execution_count": 47,
   "id": "e0adef1b",
   "metadata": {},
   "outputs": [],
   "source": [
    "shock_colour = \"#BD88E8\"\n",
    "le_colour = \"#FF8300\"\n",
    "te_colour = \"#00D4FF\"\n",
    "\n",
    "nrows = 1\n",
    "fig = make_subplots(rows=nrows, cols=1, shared_xaxes=True)\n",
    "\n",
    "for column, color in zip(['bx', 'by', 'bz', 'bt'], ['red', 'green', 'blue', 'black']):\n",
    "    fig.add_trace(\n",
    "        go.Scatter(\n",
    "            x=solo_df['time'],\n",
    "            y=solo_df[column],\n",
    "            name=column.upper(),\n",
    "            line_color=color\n",
    "        ),\n",
    "        row=1, col=1\n",
    "    )\n",
    "\n",
    "fig.update_yaxes(title_text='B [nT] RTN', row=1, col=1)\n",
    "\n",
    "fig.add_vline(x=t_shock, row=1, col=1, line_width=2, line_dash=\"dash\", line_color=shock_colour)\n",
    "fig.add_vline(x=t_le, row=1, col=1, line_width=2, line_dash=\"dash\", line_color=le_colour)\n",
    "fig.add_vline(x=t_te, row=1, col=1, line_width=2, line_dash=\"dash\", line_color=te_colour)\n",
    "\n",
    "fig.update_yaxes(showgrid=True, zeroline=False, showticklabels=True,\n",
    "                     showspikes=True, spikemode='across', spikesnap='cursor', showline=False, spikedash='solid', spikethickness=1)\n",
    "fig.update_xaxes(showgrid=True, zeroline=False, showticklabels=True, rangeslider_visible=False,\n",
    "                     showspikes=True, spikemode='across', spikesnap='cursor', showline=False, spikedash='solid', spikethickness=1)\n",
    "\n",
    "fig.update_layout(\n",
    "    title=f'SolO MAG Data in RTN from {t_start} to {t_end} <br>Latest SolO Position (HEEQ): r = {r_recent:.2f} AU, lat = {lat_recent:.2f}, lon = {lon_recent:.2f} <br>Time lag to current time: {lag:.2f} hours <br>From ELEvo: Estimated arrival speed at SolO: {speed} km/s, DONKI ID: {donki_id} <br>ICME start: {t_shock}, MO start: {t_le}, MO end: {t_te}',\n",
    "    margin={\"t\": 200})\n",
    "\n",
    "fig.update_layout(xaxis_range=[t_shock-timedelta(hours=10),t_end])\n",
    "\n",
    "fig.write_html(f'{output_path}/SolO_MAG_{t_now_date}.html')\n",
    "fig.write_image(f'{output_path}/SolO_MAG_{t_now_date}.pdf')\n",
    "\n",
    "fig.show()"
   ]
  },
  {
   "cell_type": "markdown",
   "id": "f368468b",
   "metadata": {},
   "source": [
    "# Time-Shifting, ICME Expansion, Magnetic Field Scaling, Coord Conversion for SolO"
   ]
  },
  {
   "cell_type": "code",
   "execution_count": 74,
   "id": "76755c5b",
   "metadata": {},
   "outputs": [],
   "source": [
    "#Transform SolO MAG data from RTN to GSM coordinates\n",
    "df_solo_gsm = transform.RTN_to_GSM(solo_df)"
   ]
  },
  {
   "cell_type": "code",
   "execution_count": 75,
   "id": "7362ca42",
   "metadata": {},
   "outputs": [],
   "source": [
    "#If using predicted ELEvo arrival speed to timeshift:\n",
    "df_timeshifted_speed = insitu_tools.timeshift_dataframe_predspeed(df_solo_gsm, insitu_speed)\n",
    "\n",
    "#If using predicted ELEvo L1 arrival time to timeshift (preferred):\n",
    "df_timeshifted = insitu_tools.timeshift_dataframe_predtime(df_solo_gsm, t_shock, L1_pred_arrival_time)"
   ]
  },
  {
   "cell_type": "code",
   "execution_count": 76,
   "id": "15245d27",
   "metadata": {},
   "outputs": [
    {
     "name": "stderr",
     "output_type": "stream",
     "text": [
      "/Users/emmadavies/Documents/sc-data-functions/functions_insitu_analysis.py:46: FutureWarning:\n",
      "\n",
      "Passing method to DatetimeIndex.get_loc is deprecated and will raise in a future version. Use index.get_indexer([item], method=...) instead.\n",
      "\n",
      "/Users/emmadavies/Documents/sc-data-functions/functions_insitu_analysis.py:49: FutureWarning:\n",
      "\n",
      "Passing method to DatetimeIndex.get_loc is deprecated and will raise in a future version. Use index.get_indexer([item], method=...) instead.\n",
      "\n",
      "/Users/emmadavies/Documents/sc-data-functions/functions_insitu_analysis.py:46: FutureWarning:\n",
      "\n",
      "Passing method to DatetimeIndex.get_loc is deprecated and will raise in a future version. Use index.get_indexer([item], method=...) instead.\n",
      "\n",
      "/Users/emmadavies/Documents/sc-data-functions/functions_insitu_analysis.py:49: FutureWarning:\n",
      "\n",
      "Passing method to DatetimeIndex.get_loc is deprecated and will raise in a future version. Use index.get_indexer([item], method=...) instead.\n",
      "\n"
     ]
    }
   ],
   "source": [
    "#Expand timeshifted ICME (currently set to expand between MO start and end, but could change to ICME start)\n",
    "df_expanded = insitu_tools.expand_icme(df_timeshifted, dscovr_df, t_shock, t_te) #usually t_te\n",
    "\n",
    "df_expanded_speed = insitu_tools.expand_icme(df_timeshifted_speed, dscovr_df, t_shock, t_te) #usually t_te\n",
    "\n",
    "#df_expanded_future = insitu_tools.expand_icme(df_timeshifted, dscovr_df, t_shock, t_end) #usually t_te"
   ]
  },
  {
   "cell_type": "code",
   "execution_count": 77,
   "id": "7fcdc782",
   "metadata": {
    "scrolled": true
   },
   "outputs": [
    {
     "name": "stderr",
     "output_type": "stream",
     "text": [
      "/Users/emmadavies/Documents/sc-data-functions/functions_insitu_analysis.py:114: FutureWarning:\n",
      "\n",
      "Passing method to DatetimeIndex.get_loc is deprecated and will raise in a future version. Use index.get_indexer([item], method=...) instead.\n",
      "\n",
      "/Users/emmadavies/Documents/sc-data-functions/functions_insitu_analysis.py:114: FutureWarning:\n",
      "\n",
      "Passing method to DatetimeIndex.get_loc is deprecated and will raise in a future version. Use index.get_indexer([item], method=...) instead.\n",
      "\n",
      "/Users/emmadavies/Documents/sc-data-functions/functions_insitu_analysis.py:114: FutureWarning:\n",
      "\n",
      "Passing method to DatetimeIndex.get_loc is deprecated and will raise in a future version. Use index.get_indexer([item], method=...) instead.\n",
      "\n",
      "/Users/emmadavies/Documents/sc-data-functions/functions_insitu_analysis.py:131: FutureWarning:\n",
      "\n",
      "Passing method to DatetimeIndex.get_loc is deprecated and will raise in a future version. Use index.get_indexer([item], method=...) instead.\n",
      "\n",
      "/Users/emmadavies/Documents/sc-data-functions/functions_insitu_analysis.py:136: FutureWarning:\n",
      "\n",
      "Passing method to DatetimeIndex.get_loc is deprecated and will raise in a future version. Use index.get_indexer([item], method=...) instead.\n",
      "\n",
      "/Users/emmadavies/Documents/sc-data-functions/functions_insitu_analysis.py:141: FutureWarning:\n",
      "\n",
      "Passing method to DatetimeIndex.get_loc is deprecated and will raise in a future version. Use index.get_indexer([item], method=...) instead.\n",
      "\n",
      "/Users/emmadavies/Documents/sc-data-functions/functions_insitu_analysis.py:131: FutureWarning:\n",
      "\n",
      "Passing method to DatetimeIndex.get_loc is deprecated and will raise in a future version. Use index.get_indexer([item], method=...) instead.\n",
      "\n",
      "/Users/emmadavies/Documents/sc-data-functions/functions_insitu_analysis.py:136: FutureWarning:\n",
      "\n",
      "Passing method to DatetimeIndex.get_loc is deprecated and will raise in a future version. Use index.get_indexer([item], method=...) instead.\n",
      "\n",
      "/Users/emmadavies/Documents/sc-data-functions/functions_insitu_analysis.py:141: FutureWarning:\n",
      "\n",
      "Passing method to DatetimeIndex.get_loc is deprecated and will raise in a future version. Use index.get_indexer([item], method=...) instead.\n",
      "\n",
      "/Users/emmadavies/Documents/sc-data-functions/functions_insitu_analysis.py:131: FutureWarning:\n",
      "\n",
      "Passing method to DatetimeIndex.get_loc is deprecated and will raise in a future version. Use index.get_indexer([item], method=...) instead.\n",
      "\n",
      "/Users/emmadavies/Documents/sc-data-functions/functions_insitu_analysis.py:136: FutureWarning:\n",
      "\n",
      "Passing method to DatetimeIndex.get_loc is deprecated and will raise in a future version. Use index.get_indexer([item], method=...) instead.\n",
      "\n",
      "/Users/emmadavies/Documents/sc-data-functions/functions_insitu_analysis.py:141: FutureWarning:\n",
      "\n",
      "Passing method to DatetimeIndex.get_loc is deprecated and will raise in a future version. Use index.get_indexer([item], method=...) instead.\n",
      "\n"
     ]
    }
   ],
   "source": [
    "#If using predicted ELEvo arrival speed to timeshift:\n",
    "\n",
    "ts_s_speed, ts_s_lb_speed, ts_s_ub_speed = insitu_tools.timeshift_boundary_predspeed(t_shock, df_expanded_speed, insitu_speed)\n",
    "ts_le_speed, ts_le_lb_speed, ts_le_ub_speed = insitu_tools.timeshift_boundary_predspeed(t_le, df_expanded_speed, insitu_speed)\n",
    "ts_te_speed, ts_te_lb_speed, ts_te_ub_speed = insitu_tools.timeshift_boundary_predspeed(t_te, df_expanded_speed, insitu_speed)\n",
    "\n",
    "#If using predicted ELEvo L1 arrival time to timeshift (preferred):\n",
    "\n",
    "ts_s, ts_s_lb, ts_s_ub = insitu_tools.timeshift_boundary_predtime(df_expanded, t_shock, L1_pred_arrival_uncertainty)\n",
    "ts_le, ts_le_lb, ts_le_ub = insitu_tools.timeshift_boundary_predtime(df_expanded, t_le, L1_pred_arrival_uncertainty)\n",
    "ts_te, ts_te_lb, ts_te_ub = insitu_tools.timeshift_boundary_predtime(df_expanded, t_te, L1_pred_arrival_uncertainty)"
   ]
  },
  {
   "cell_type": "code",
   "execution_count": 65,
   "id": "70c709b0",
   "metadata": {},
   "outputs": [
    {
     "data": {
      "text/plain": [
       "Timedelta('0 days 06:00:39.574348')"
      ]
     },
     "execution_count": 65,
     "metadata": {},
     "output_type": "execute_result"
    }
   ],
   "source": [
    "ts_s_speed - ts_s"
   ]
  },
  {
   "cell_type": "code",
   "execution_count": 89,
   "id": "f0b27b29",
   "metadata": {},
   "outputs": [],
   "source": [
    "#scale B field data using power law (default = -1.6)\n",
    "\n",
    "df_scaled = insitu_tools.scale_B_field_future(df_expanded, dscovr_df, power_upper=-1.2, power_lower=-2)\n",
    "\n",
    "df_scaled_speed = insitu_tools.scale_B_field_future(df_expanded_speed, dscovr_df)\n",
    "\n",
    "\n",
    "#df_scaled = insitu_tools.scale_B_field(df_expanded, dscovr_df)"
   ]
  },
  {
   "cell_type": "markdown",
   "id": "c26306c6",
   "metadata": {},
   "source": [
    "# Final Prediction:\n",
    "## Plot of Time-Shifted, Expanded, and Scaled B of SolO, incl. uncertainties\n",
    "## Includes DSCOVR real-time data for comparison"
   ]
  },
  {
   "cell_type": "code",
   "execution_count": 92,
   "id": "06092e68",
   "metadata": {},
   "outputs": [],
   "source": [
    "shock_colour = \"#BD88E8\"\n",
    "le_colour = \"#FF8300\"\n",
    "te_colour = \"#00D4FF\"\n",
    "\n",
    "\n",
    "nrows = 5\n",
    "fig = make_subplots(rows=nrows, cols=1, shared_xaxes=True, \n",
    "                    specs=[[{\"secondary_y\": False}],\n",
    "                           [{\"secondary_y\": False}],\n",
    "                           [{\"secondary_y\": False}],\n",
    "                           [{\"secondary_y\": False}],\n",
    "                           [{\"secondary_y\": True}]])\n",
    "\n",
    "for column, color in zip(['bx', 'by', 'bz', 'bt'], ['red', 'green', 'blue', 'black']):\n",
    "    fig.add_trace(\n",
    "        go.Scatter(\n",
    "            x=df_solo_gsm['time'],\n",
    "            y=df_solo_gsm[column],\n",
    "            name=column.upper(),\n",
    "            line_color=color\n",
    "        ),\n",
    "        row=1, col=1\n",
    "    )\n",
    "\n",
    "fig.add_vline(x=t_shock, row=1, col=1, line_width=1.5, line_dash=\"dash\", line_color=shock_colour)\n",
    "fig.add_vline(x=t_le, row=1, col=1, line_width=1.5, line_dash=\"dash\", line_color=le_colour)\n",
    "fig.add_vline(x=t_te, row=1, col=1, line_width=1.5, line_dash=\"dash\", line_color=te_colour)\n",
    "\n",
    "fig.update_yaxes(title_text='SolO B [nT, GSM]', row=1, col=1)\n",
    "\n",
    "for column, color in zip(['bx_scaled', 'by_scaled', 'bz_scaled', 'bt_scaled'], ['red', 'green', 'blue', 'black']):\n",
    "    fig.add_trace(\n",
    "        go.Scatter(\n",
    "            x=df_scaled['time_shifted_exp'],\n",
    "            y=df_scaled[column],\n",
    "            name=column.upper(),\n",
    "            line_color=color,\n",
    "            showlegend=False\n",
    "        ),\n",
    "        row=2, col=1\n",
    "    )\n",
    "    \n",
    "fig.add_trace(\n",
    "    go.Scatter(\n",
    "        x=df_scaled['time_shifted_exp'],\n",
    "        y=df_scaled['bt_scaled_lb'],\n",
    "        line_color='black',\n",
    "        line_width=0,\n",
    "        showlegend=False\n",
    "    ),\n",
    "    row=2, col=1\n",
    ")\n",
    "\n",
    "fig.add_trace(\n",
    "    go.Scatter(\n",
    "        x=df_scaled['time_shifted_exp'],\n",
    "        y=df_scaled['bt_scaled_ub'],\n",
    "        line_color='black',\n",
    "        line_width=0,\n",
    "        fill=\"tonextx\",\n",
    "        showlegend=False\n",
    "    ),\n",
    "    row=2, col=1\n",
    ")\n",
    "\n",
    "fig.add_trace(\n",
    "    go.Scatter(\n",
    "        x=df_scaled['time_shifted_exp'],\n",
    "        y=df_scaled['bx_scaled_lb'],\n",
    "        line_color='red',\n",
    "        line_width=0,\n",
    "        showlegend=False\n",
    "    ),\n",
    "    row=2, col=1\n",
    ")\n",
    "\n",
    "fig.add_trace(\n",
    "    go.Scatter(\n",
    "        x=df_scaled['time_shifted_exp'],\n",
    "        y=df_scaled['bx_scaled_ub'],\n",
    "        line_color='red',\n",
    "        line_width=0,\n",
    "        fill=\"tonextx\",\n",
    "        showlegend=False\n",
    "    ),\n",
    "    row=2, col=1\n",
    ")\n",
    "\n",
    "fig.add_trace(\n",
    "    go.Scatter(\n",
    "        x=df_scaled['time_shifted_exp'],\n",
    "        y=df_scaled['by_scaled_lb'],\n",
    "        line_color='green',\n",
    "        line_width=0,\n",
    "        showlegend=False\n",
    "    ),\n",
    "    row=2, col=1\n",
    ")\n",
    "\n",
    "fig.add_trace(\n",
    "    go.Scatter(\n",
    "        x=df_scaled['time_shifted_exp'],\n",
    "        y=df_scaled['by_scaled_ub'],\n",
    "        line_color='green',\n",
    "        line_width=0,\n",
    "        fill=\"tonextx\",\n",
    "        showlegend=False\n",
    "    ),\n",
    "    row=2, col=1\n",
    ")\n",
    "\n",
    "fig.add_trace(\n",
    "    go.Scatter(\n",
    "        x=df_scaled['time_shifted_exp'],\n",
    "        y=df_scaled['bz_scaled_lb'],\n",
    "        line_color='blue',\n",
    "        line_width=0,\n",
    "        showlegend=False\n",
    "    ),\n",
    "    row=2, col=1\n",
    ")\n",
    "\n",
    "fig.add_trace(\n",
    "    go.Scatter(\n",
    "        x=df_scaled['time_shifted_exp'],\n",
    "        y=df_scaled['bz_scaled_ub'],\n",
    "        line_color='blue',\n",
    "        line_width=0,\n",
    "        fill=\"tonextx\",\n",
    "        showlegend=False\n",
    "    ),\n",
    "    row=2, col=1\n",
    ")\n",
    "\n",
    "fig.add_vline(x=ts_s, row=2, col=1, line_width=1.5, line_dash=\"dash\", line_color=shock_colour)\n",
    "fig.add_vrect(x0=ts_s_lb, x1=ts_s_ub, row=2, col=1, line_width=0, fillcolor=shock_colour, opacity=0.3)\n",
    "    \n",
    "fig.add_vline(x=ts_le, row=2, col=1, line_width=1.5, line_dash=\"dash\", line_color=le_colour)\n",
    "fig.add_vrect(x0=ts_le_lb, x1=ts_le_ub, row=2, col=1, line_width=0, fillcolor=le_colour, opacity=0.3)\n",
    "\n",
    "fig.add_vline(x=ts_te, row=2, col=1, line_width=1.5, line_dash=\"dash\", line_color=te_colour)\n",
    "fig.add_vrect(x0=ts_te_lb, x1=ts_te_ub, row=2, col=1, line_width=0, fillcolor=te_colour, opacity=0.3)\n",
    "    \n",
    "fig.update_yaxes(title_text='Pred B at L1 [nT, GSM]', row=2, col=1)\n",
    "\n",
    "for column, color in zip(['bx', 'by', 'bz', 'bt'], ['red', 'green', 'blue', 'black']):\n",
    "    fig.add_trace(\n",
    "        go.Scatter(\n",
    "            x=dscovr_df['time'],\n",
    "            y=dscovr_df[column],\n",
    "            name=column.upper(),\n",
    "            line_color=color,\n",
    "            showlegend=False\n",
    "        ),\n",
    "        row=3, col=1\n",
    "    )\n",
    "    \n",
    "fig.add_vrect(x0=ts_s_lb, x1=ts_s_ub, row=3, col=1, line_width=0, fillcolor=shock_colour, opacity=0.3)\n",
    "fig.add_vrect(x0=ts_le_lb, x1=ts_le_ub, row=3, col=1, line_width=0, fillcolor=le_colour, opacity=0.3)\n",
    "fig.add_vrect(x0=ts_te_lb, x1=ts_te_ub, row=3, col=1, line_width=0, fillcolor=te_colour, opacity=0.3)\n",
    "\n",
    "fig.update_yaxes(title_text='NOAA L1 B [nT, GSM]', row=3, col=1)\n",
    "\n",
    "fig.add_trace(\n",
    "    go.Scatter(\n",
    "        x=dscovr_df['time'],\n",
    "        y=dscovr_df['vt'],\n",
    "        name='VT',\n",
    "        line_color='purple',\n",
    "        showlegend=True\n",
    "    ),\n",
    "    row=4, col=1\n",
    ")\n",
    "    \n",
    "fig.add_vrect(x0=ts_s_lb, x1=ts_s_ub, row=4, col=1, line_width=0, fillcolor=shock_colour, opacity=0.3)\n",
    "fig.add_vrect(x0=ts_le_lb, x1=ts_le_ub, row=4, col=1, line_width=0, fillcolor=le_colour, opacity=0.3)\n",
    "fig.add_vrect(x0=ts_te_lb, x1=ts_te_ub, row=4, col=1, line_width=0, fillcolor=te_colour, opacity=0.3)\n",
    "\n",
    "fig.update_yaxes(title_text='NOAA L1 Vt [km/s]', row=4, col=1)\n",
    "\n",
    "fig.add_trace(\n",
    "    go.Scatter(\n",
    "        x=dscovr_df['time'],\n",
    "        y=dscovr_df['tp']/1000000,\n",
    "        name='Tp',\n",
    "        line_color='cornflowerblue',\n",
    "        showlegend=True\n",
    "    ),\n",
    "    row=5, col=1, secondary_y=False,\n",
    ")\n",
    "\n",
    "fig.update_yaxes(title_text='NOAA L1 Tp [MK]', row=5, col=1, secondary_y=False)\n",
    "\n",
    "fig.add_trace(\n",
    "    go.Scatter(\n",
    "        x=dscovr_df['time'],\n",
    "        y=dscovr_df['np'],\n",
    "        name='Np',\n",
    "        line_color='maroon',\n",
    "        showlegend=True\n",
    "    ),\n",
    "    row=5, col=1, secondary_y=True,\n",
    ")\n",
    "\n",
    "fig.update_yaxes(title_text='NOAA L1 Np [cm-3]', row=5, col=1, secondary_y=True)\n",
    "\n",
    "fig.add_vrect(x0=ts_s_lb, x1=ts_s_ub, row=5, col=1, line_width=0, fillcolor=shock_colour, opacity=0.3)\n",
    "fig.add_vrect(x0=ts_le_lb, x1=ts_le_ub, row=5, col=1, line_width=0, fillcolor=le_colour, opacity=0.3)\n",
    "fig.add_vrect(x0=ts_te_lb, x1=ts_te_ub, row=5, col=1, line_width=0, fillcolor=te_colour, opacity=0.3)\n",
    "\n",
    "fig.update_yaxes(showgrid=True, zeroline=False, showticklabels=True,\n",
    "                     showspikes=True, spikemode='across', spikesnap='cursor', showline=False, spikedash='solid', spikethickness=1)\n",
    "fig.update_xaxes(showgrid=True, zeroline=False, showticklabels=True, rangeslider_visible=False,\n",
    "                     showspikes=True, spikemode='across', spikesnap='cursor', showline=False, spikedash='solid', spikethickness=1)\n",
    "\n",
    "fig.update_layout(\n",
    "    title=f'SolO LL MAG Data from {t_start:%Y-%m-%d %H:%M} to {t_end:%Y-%m-%d %H:%M}, time lag to current time: {lag:.2f} hours <br>SolO position at ICME start: r = {r_start:.2f} AU, lat = {lat_start:.2f} deg, lon = {lon_start:.2f} deg; SolO position at MO end: r = {r_end:.2f} AU, lat = {lat_end:.2f} deg, lon = {lon_end:.2f} deg <br>Time-shifted using ELEvo predicted arrival time, B propto r^(-1.6 +/- 0.4), and ICME duration propto r^0.8 <br>Predicted L1 arrival windows for ICME start (purple), MO start (orange) and MO end (blue) represented by shaded regions <br>Predicted arrival times at L1: ICME start: {ts_s:%Y-%m-%d %H:%M}, MO start: {ts_le:%Y-%m-%d %H:%M}, MO end: {ts_te:%Y-%m-%d %H:%M}',\n",
    "    margin={\"t\": 200})\n",
    "\n",
    "latest_time = df_scaled['time_shifted_exp'].max()\n",
    "fig.update_layout(xaxis_range=[t_shock-timedelta(hours=10),latest_time])\n",
    "\n",
    "fig.write_html(f'{output_path}/SolO_MAG_prediction_{t_now_date_hour}.html')\n",
    "fig.write_image(f'{output_path}/SolO_MAG_prediction_{t_now_date_hour}.png')\n",
    "\n",
    "fig.show()"
   ]
  }
 ],
 "metadata": {
  "kernelspec": {
   "display_name": "space-base",
   "language": "python",
   "name": "space-base"
  },
  "language_info": {
   "codemirror_mode": {
    "name": "ipython",
    "version": 3
   },
   "file_extension": ".py",
   "mimetype": "text/x-python",
   "name": "python",
   "nbconvert_exporter": "python",
   "pygments_lexer": "ipython3",
   "version": "3.11.3"
  }
 },
 "nbformat": 4,
 "nbformat_minor": 5
}
